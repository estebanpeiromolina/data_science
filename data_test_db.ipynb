{
 "cells": [
  {
   "cell_type": "code",
   "execution_count": 5,
   "metadata": {},
   "outputs": [],
   "source": [
    "import numpy as np\n",
    "import pandas as pd"
   ]
  },
  {
   "cell_type": "code",
   "execution_count": 6,
   "metadata": {},
   "outputs": [],
   "source": [
    "df = pd.read_excel(r\"C:\\Users\\Esteban\\Desktop\\cardiodata.xlsx\", sheet_name=\"CARDIODATA\")\n"
   ]
  },
  {
   "cell_type": "code",
   "execution_count": 7,
   "metadata": {},
   "outputs": [
    {
     "data": {
      "text/plain": [
       "Index(['fecha', 'n', 'nhc', 'nhcCOPIA', 'nombre', 'fecha nacimiento', 'dx1',\n",
       "       'dx2', 'dx3', 'procedimientos', 'Observaciones'],\n",
       "      dtype='object')"
      ]
     },
     "execution_count": 7,
     "metadata": {},
     "output_type": "execute_result"
    }
   ],
   "source": [
    "df.columns"
   ]
  },
  {
   "cell_type": "code",
   "execution_count": 8,
   "metadata": {},
   "outputs": [
    {
     "data": {
      "text/html": [
       "<div>\n",
       "<style>\n",
       "    .dataframe thead tr:only-child th {\n",
       "        text-align: right;\n",
       "    }\n",
       "\n",
       "    .dataframe thead th {\n",
       "        text-align: left;\n",
       "    }\n",
       "\n",
       "    .dataframe tbody tr th {\n",
       "        vertical-align: top;\n",
       "    }\n",
       "</style>\n",
       "<table border=\"1\" class=\"dataframe\">\n",
       "  <thead>\n",
       "    <tr style=\"text-align: right;\">\n",
       "      <th></th>\n",
       "      <th>fecha</th>\n",
       "      <th>n</th>\n",
       "      <th>nhc</th>\n",
       "      <th>nhcCOPIA</th>\n",
       "      <th>nombre</th>\n",
       "      <th>fecha nacimiento</th>\n",
       "      <th>dx1</th>\n",
       "      <th>dx2</th>\n",
       "      <th>dx3</th>\n",
       "      <th>procedimientos</th>\n",
       "      <th>Observaciones</th>\n",
       "    </tr>\n",
       "  </thead>\n",
       "  <tbody>\n",
       "    <tr>\n",
       "      <th>0</th>\n",
       "      <td>2018-09-03</td>\n",
       "      <td>1.0</td>\n",
       "      <td>6637958</td>\n",
       "      <td>NaN</td>\n",
       "      <td>GARCIA-PRIETO SIMON, AINHOA</td>\n",
       "      <td>2009-09-15</td>\n",
       "      <td>DVPA Parcial/Sd. Cimitarra/Hipoplasia pulmonar</td>\n",
       "      <td>NaN</td>\n",
       "      <td>NaN</td>\n",
       "      <td>NaN</td>\n",
       "      <td>NaN</td>\n",
       "    </tr>\n",
       "    <tr>\n",
       "      <th>1</th>\n",
       "      <td>2018-09-03</td>\n",
       "      <td>2.0</td>\n",
       "      <td>6218028</td>\n",
       "      <td>NaN</td>\n",
       "      <td>NAVARRO LIETOR, CLAUDIA</td>\n",
       "      <td>2009-01-13</td>\n",
       "      <td>CIA</td>\n",
       "      <td>NaN</td>\n",
       "      <td>NaN</td>\n",
       "      <td>Cierre cateterismo</td>\n",
       "      <td>NaN</td>\n",
       "    </tr>\n",
       "  </tbody>\n",
       "</table>\n",
       "</div>"
      ],
      "text/plain": [
       "       fecha    n      nhc  nhcCOPIA                       nombre  \\\n",
       "0 2018-09-03  1.0  6637958       NaN  GARCIA-PRIETO SIMON, AINHOA   \n",
       "1 2018-09-03  2.0  6218028       NaN      NAVARRO LIETOR, CLAUDIA   \n",
       "\n",
       "  fecha nacimiento                                             dx1  dx2  dx3  \\\n",
       "0       2009-09-15  DVPA Parcial/Sd. Cimitarra/Hipoplasia pulmonar  NaN  NaN   \n",
       "1       2009-01-13                                             CIA  NaN  NaN   \n",
       "\n",
       "       procedimientos Observaciones  \n",
       "0                 NaN           NaN  \n",
       "1  Cierre cateterismo           NaN  "
      ]
     },
     "execution_count": 8,
     "metadata": {},
     "output_type": "execute_result"
    }
   ],
   "source": [
    "df.head(2)"
   ]
  },
  {
   "cell_type": "code",
   "execution_count": 66,
   "metadata": {},
   "outputs": [
    {
     "data": {
      "text/plain": [
       "Anillo Vascular/Sling pulmonar                                NaN\n",
       "Anomalías drenaje venosos sistémico                           NaN\n",
       "Aortopatías/Colagenopatías                                    NaN\n",
       "Atresia pulmonar + CIV                                        NaN\n",
       "Atresia pulmonar septo íntegro                                NaN\n",
       "Bloqueo AV                                                    NaN\n",
       "Brugada                                                       NaN\n",
       "CIA                                                          95.0\n",
       "CIV                                                         111.0\n",
       "Canal AV                                                      NaN\n",
       "Coartación aórtica                                            NaN\n",
       "Cromosomopatías                                              21.0\n",
       "D-TGA                                                         NaN\n",
       "DVPA Parcial/Sd. Cimitarra/Hipoplasia pulmonar                NaN\n",
       "DVPA Parcial/Sd. Cimitarra/Hipoplasia pulmonar/Secuestro      NaN\n",
       "DVPA Total                                                    NaN\n",
       "Disfunción nodo sinusal                                       NaN\n",
       "Displasia valvula aortica                                     NaN\n",
       "Displasia valvula pulmonar                                    NaN\n",
       "Displasia/Prolapso Mitral                                     NaN\n",
       "Distrofia muscular                                            NaN\n",
       "Ductus arterioso persistente                                 53.0\n",
       "Ebstein                                                       NaN\n",
       "Endocarditis                                                  4.0\n",
       "Esclerosis tuberosa                                           NaN\n",
       "Estenosis aórtica                                            33.0\n",
       "Estenosis mitral                                              5.0\n",
       "Estenosis pulmonar                                           50.0\n",
       "Estenosis venas pulmonares                                    NaN\n",
       "Estenosis venas sistémicas/túneles                            NaN\n",
       "                                                            ...  \n",
       "MC no compactada                                              NaN\n",
       "Malformacion arteriovenosa                                    NaN\n",
       "Metabolopatías                                                NaN\n",
       "Miocarditis/Mioperi                                           NaN\n",
       "Normal                                                        NaN\n",
       "Oncológico/Tto AC                                             NaN\n",
       "Otras alteraciones genéticas                                  NaN\n",
       "Otros defectos cardiacos congénitos                           NaN\n",
       "Otros trasplantes                                             NaN\n",
       "Palpitaciones                                                 NaN\n",
       "Pectus excavatum                                              NaN\n",
       "Pericarditis                                                  NaN\n",
       "QT Largo                                                      NaN\n",
       "Sindrome Noonan                                               NaN\n",
       "Soplo inocente/funcional                                      NaN\n",
       "Síncopes                                                      NaN\n",
       "Síndrome Williams-Beuren                                      NaN\n",
       "Síndromes (otros)                                            21.0\n",
       "Taquicardia Catecolaminérgica                                 NaN\n",
       "Taquicardia supraventricular                                 26.0\n",
       "Taquicardia ventricular                                       NaN\n",
       "Tetralogía de Fallot                                          NaN\n",
       "Trasplante cardiaco                                           NaN\n",
       "Truncus                                                       NaN\n",
       "Tumores cardiacos                                             NaN\n",
       "Univentriculares (todos)                                      NaN\n",
       "Ventana aortopulmonar                                         NaN\n",
       "Ventrículo derecho doble salida                               NaN\n",
       "Válvula aórtica bicúspide                                    26.0\n",
       "WPW                                                          14.0\n",
       "Length: 76, dtype: float64"
      ]
     },
     "execution_count": 66,
     "metadata": {},
     "output_type": "execute_result"
    }
   ],
   "source": [
    "total = df.dx1.value_counts() + df.dx2.value_counts() + df.dx3.value_counts()\n",
    "total"
   ]
  },
  {
   "cell_type": "code",
   "execution_count": 35,
   "metadata": {},
   "outputs": [
    {
     "data": {
      "text/plain": [
       "(705, 11)"
      ]
     },
     "execution_count": 35,
     "metadata": {},
     "output_type": "execute_result"
    }
   ],
   "source": [
    "df.shape"
   ]
  },
  {
   "cell_type": "code",
   "execution_count": 40,
   "metadata": {},
   "outputs": [
    {
     "data": {
      "text/plain": [
       "fecha               704\n",
       "n                   680\n",
       "nhc                 705\n",
       "nhcCOPIA              0\n",
       "nombre              705\n",
       "fecha nacimiento    604\n",
       "dx1                 702\n",
       "dx2                 246\n",
       "dx3                  42\n",
       "procedimientos      241\n",
       "Observaciones       188\n",
       "dtype: int64"
      ]
     },
     "execution_count": 40,
     "metadata": {},
     "output_type": "execute_result"
    }
   ],
   "source": [
    "df.count(0)"
   ]
  },
  {
   "cell_type": "code",
   "execution_count": 51,
   "metadata": {},
   "outputs": [
    {
     "data": {
      "text/plain": [
       "32"
      ]
     },
     "execution_count": 51,
     "metadata": {},
     "output_type": "execute_result"
    }
   ],
   "source": [
    "(df[\"dx1\"]==\"CIV\").sum()"
   ]
  },
  {
   "cell_type": "code",
   "execution_count": 69,
   "metadata": {},
   "outputs": [],
   "source": [
    "def contar_numero(enfermedad):\n",
    "    num = (df[\"dx1\"]==enfermedad).sum() + (df[\"dx2\"]==enfermedad).sum() + (df[\"dx3\"]==enfermedad).sum()\n",
    "    return num"
   ]
  },
  {
   "cell_type": "code",
   "execution_count": 71,
   "metadata": {},
   "outputs": [
    {
     "data": {
      "text/plain": [
       "95"
      ]
     },
     "execution_count": 71,
     "metadata": {},
     "output_type": "execute_result"
    }
   ],
   "source": [
    "contar_numero(\"CIA\")"
   ]
  },
  {
   "cell_type": "code",
   "execution_count": 75,
   "metadata": {},
   "outputs": [
    {
     "name": "stdout",
     "output_type": "stream",
     "text": [
      "DVPA Parcial/Sd. Cimitarra/Hipoplasia pulmonar    3\n",
      "CIA    95\n",
      "Estenosis pulmonar    50\n",
      "MC Hipertrófica    8\n",
      "DVPA Total    4\n",
      "Soplo inocente/funcional    27\n",
      "Canal AV    23\n",
      "Válvula aórtica bicúspide    26\n",
      "Coartación aórtica    39\n",
      "Malformacion arteriovenosa    1\n",
      "Normal    105\n",
      "Ventrículo derecho doble salida    5\n",
      "Ductus arterioso persistente    53\n",
      "Síndromes (otros)    21\n",
      "Kawasaki    9\n",
      "CIV    111\n",
      "Familiar MC/MS/Canalopatia    1\n",
      "Oncológico/Tto AC    8\n",
      "Aortopatías/Colagenopatías    4\n",
      "Tumores cardiacos    1\n",
      "Extrasistolia supraventricular    7\n",
      "QT Largo    6\n",
      "WPW    14\n",
      "Truncus    3\n",
      "Palpitaciones    15\n",
      "Anomalías drenaje venosos sistémico    4\n",
      "Taquicardia ventricular    2\n",
      "Ventana aortopulmonar    1\n",
      "Tetralogía de Fallot    37\n",
      "Univentriculares (todos)    9\n",
      "Trasplante cardiaco    6\n",
      "D-TGA    23\n",
      "Síncopes    5\n",
      "Estenosis mitral    5\n",
      "Taquicardia supraventricular    26\n",
      "nan    0\n",
      "Extrasistolia ventricular    7\n",
      "Estenosis aórtica    33\n",
      "Insuficiencia aórtica    16\n",
      "Bloqueo AV    10\n",
      "Anillo Vascular/Sling pulmonar    2\n",
      "Otros defectos cardiacos congénitos    8\n",
      "MC no compactada    7\n",
      "Otros trasplantes    2\n",
      "Insuficiencia mitral    16\n",
      "Miocarditis/Mioperi    1\n",
      "Endocarditis    4\n",
      "Síndrome Williams-Beuren    3\n",
      "Atresia pulmonar + CIV    5\n",
      "Displasia valvula aortica    3\n",
      "Pectus excavatum    2\n",
      "Estenosis venas pulmonares    2\n",
      "Familiar MC/MS/Canalopatía    17\n",
      "Disfunción nodo sinusal    3\n",
      "Hipertensión Pulmonar    11\n",
      "Interrupción arco aórtico    4\n",
      "Insuficiencia tricúspide    8\n",
      "Distrofia muscular    4\n",
      "L-TGA    2\n",
      "Ebstein    2\n",
      "DVPA Parcial/Sd. Cimitarra/Hipoplasia pulmonar/Secuestro    4\n",
      "Brugada    1\n",
      "MC dilatada    8\n",
      "Otras alteraciones genéticas    2\n",
      "Fístula coronaria    1\n",
      "Displasia valvula pulmonar    2\n",
      "Atresia pulmonar septo íntegro    2\n",
      "Cromosomopatías    21\n",
      "Esclerosis tuberosa    2\n",
      "Taquicardia Catecolaminérgica    1\n"
     ]
    }
   ],
   "source": [
    "for t in df.dx1.unique():\n",
    "    print (str(t) + \"    \" + str(contar_numero(t)))"
   ]
  },
  {
   "cell_type": "code",
   "execution_count": 86,
   "metadata": {},
   "outputs": [
    {
     "name": "stdout",
     "output_type": "stream",
     "text": [
      "[('CIV', 111), ('Normal', 105), ('CIA', 95), ('Ductus arterioso persistente', 53), ('Estenosis pulmonar', 50), ('Coartación aórtica', 39), ('Tetralogía de Fallot', 37), ('Estenosis aórtica', 33), ('Soplo inocente/funcional', 27), ('Válvula aórtica bicúspide', 26), ('Taquicardia supraventricular', 26), ('Canal AV', 23), ('D-TGA', 23), ('Síndromes (otros)', 21), ('Cromosomopatías', 21), ('Familiar MC/MS/Canalopatía', 17), ('Insuficiencia aórtica', 16), ('Insuficiencia mitral', 16), ('Palpitaciones', 15), ('WPW', 14), ('Hipertensión Pulmonar', 11), ('Bloqueo AV', 10), ('Kawasaki', 9), ('Univentriculares (todos)', 9), ('MC Hipertrófica', 8), ('Oncológico/Tto AC', 8), ('Otros defectos cardiacos congénitos', 8), ('Insuficiencia tricúspide', 8), ('MC dilatada', 8), ('Extrasistolia supraventricular', 7), ('Extrasistolia ventricular', 7), ('MC no compactada', 7), ('QT Largo', 6), ('Trasplante cardiaco', 6), ('Ventrículo derecho doble salida', 5), ('Síncopes', 5), ('Estenosis mitral', 5), ('Atresia pulmonar + CIV', 5), ('DVPA Total', 4), ('Aortopatías/Colagenopatías', 4), ('Anomalías drenaje venosos sistémico', 4), ('Endocarditis', 4), ('Interrupción arco aórtico', 4), ('Distrofia muscular', 4), ('DVPA Parcial/Sd. Cimitarra/Hipoplasia pulmonar/Secuestro', 4), ('DVPA Parcial/Sd. Cimitarra/Hipoplasia pulmonar', 3), ('Truncus', 3), ('Síndrome Williams-Beuren', 3), ('Displasia valvula aortica', 3), ('Disfunción nodo sinusal', 3), ('Taquicardia ventricular', 2), ('Anillo Vascular/Sling pulmonar', 2), ('Otros trasplantes', 2), ('Pectus excavatum', 2), ('Estenosis venas pulmonares', 2), ('L-TGA', 2), ('Ebstein', 2), ('Otras alteraciones genéticas', 2), ('Displasia valvula pulmonar', 2), ('Atresia pulmonar septo íntegro', 2), ('Esclerosis tuberosa', 2), ('Malformacion arteriovenosa', 1), ('Familiar MC/MS/Canalopatia', 1), ('Tumores cardiacos', 1), ('Ventana aortopulmonar', 1), ('Miocarditis/Mioperi', 1), ('Brugada', 1), ('Fístula coronaria', 1), ('Taquicardia Catecolaminérgica', 1), (nan, 0)]\n"
     ]
    }
   ],
   "source": [
    "def contar_totales():\n",
    "    todos = {}\n",
    "    for t in df.dx1.unique():\n",
    "        todos[t] = contar_numero(t)\n",
    "    return todos\n",
    "\n",
    "todos = contar_totales()\n",
    "ordenado = [(k, todos[k]) for k in sorted(todos, key=todos.get, reverse=True)]\n",
    "print (ordenado)\n",
    "\n"
   ]
  },
  {
   "cell_type": "code",
   "execution_count": null,
   "metadata": {},
   "outputs": [],
   "source": [
    "(df[\"dx1\"]==\"Estenosis pulmonar\").sum()"
   ]
  },
  {
   "cell_type": "code",
   "execution_count": 57,
   "metadata": {},
   "outputs": [
    {
     "name": "stdout",
     "output_type": "stream",
     "text": [
      "DVPA Parcial/Sd. Cimitarra/Hipoplasia pulmonar  2\n",
      "CIA  66\n",
      "Estenosis pulmonar  32\n",
      "MC Hipertrófica  8\n",
      "DVPA Total  4\n",
      "Soplo inocente/funcional  26\n",
      "Canal AV  22\n",
      "Válvula aórtica bicúspide  13\n",
      "Coartación aórtica  37\n",
      "Malformacion arteriovenosa  1\n",
      "Normal  87\n",
      "Ventrículo derecho doble salida  4\n",
      "Ductus arterioso persistente  36\n",
      "Síndromes (otros)  1\n",
      "Kawasaki  9\n",
      "CIV  96\n",
      "Familiar MC/MS/Canalopatia  1\n",
      "Oncológico/Tto AC  5\n",
      "Aortopatías/Colagenopatías  4\n",
      "Tumores cardiacos  1\n",
      "Extrasistolia supraventricular  4\n",
      "QT Largo  6\n",
      "WPW  8\n",
      "Truncus  3\n",
      "Palpitaciones  12\n",
      "Anomalías drenaje venosos sistémico  3\n",
      "Taquicardia ventricular  1\n",
      "Ventana aortopulmonar  1\n",
      "Tetralogía de Fallot  35\n",
      "Univentriculares (todos)  9\n",
      "Trasplante cardiaco  6\n",
      "D-TGA  23\n",
      "Síncopes  4\n",
      "Estenosis mitral  2\n",
      "Taquicardia supraventricular  18\n",
      "nan  0\n",
      "Extrasistolia ventricular  5\n",
      "Estenosis aórtica  21\n",
      "Insuficiencia aórtica  3\n",
      "Bloqueo AV  9\n",
      "Anillo Vascular/Sling pulmonar  2\n",
      "Otros defectos cardiacos congénitos  7\n",
      "MC no compactada  4\n",
      "Otros trasplantes  1\n",
      "Insuficiencia mitral  7\n",
      "Miocarditis/Mioperi  1\n",
      "Endocarditis  1\n",
      "Síndrome Williams-Beuren  1\n",
      "Atresia pulmonar + CIV  4\n",
      "Displasia valvula aortica  2\n",
      "Pectus excavatum  1\n",
      "Estenosis venas pulmonares  1\n",
      "Familiar MC/MS/Canalopatía  11\n",
      "Disfunción nodo sinusal  1\n",
      "Hipertensión Pulmonar  6\n",
      "Interrupción arco aórtico  1\n",
      "Insuficiencia tricúspide  2\n",
      "Distrofia muscular  1\n",
      "L-TGA  2\n",
      "Ebstein  1\n",
      "DVPA Parcial/Sd. Cimitarra/Hipoplasia pulmonar/Secuestro  1\n",
      "Brugada  1\n",
      "MC dilatada  5\n",
      "Otras alteraciones genéticas  1\n",
      "Fístula coronaria  1\n",
      "Displasia valvula pulmonar  2\n",
      "Atresia pulmonar septo íntegro  1\n",
      "Cromosomopatías  3\n",
      "Esclerosis tuberosa  1\n",
      "Taquicardia Catecolaminérgica  1\n"
     ]
    }
   ],
   "source": [
    "for i in df.dx1.unique():\n",
    "    print(str(i) + \"  \" +  str((df[\"dx1\"]==i).sum()))\n"
   ]
  },
  {
   "cell_type": "code",
   "execution_count": 19,
   "metadata": {},
   "outputs": [
    {
     "data": {
      "text/plain": [
       "array(['DVPA Parcial/Sd. Cimitarra/Hipoplasia pulmonar', 'CIA',\n",
       "       'Estenosis pulmonar', 'MC Hipertrófica', 'DVPA Total',\n",
       "       'Soplo inocente/funcional', 'Canal AV', 'Válvula aórtica bicúspide',\n",
       "       'Coartación aórtica', 'Malformacion arteriovenosa', 'Normal',\n",
       "       'Ventrículo derecho doble salida', 'Ductus arterioso persistente',\n",
       "       'Síndromes (otros)', 'Kawasaki', 'CIV',\n",
       "       'Familiar MC/MS/Canalopatia', 'Oncológico/Tto AC',\n",
       "       'Aortopatías/Colagenopatías', 'Tumores cardiacos',\n",
       "       'Extrasistolia supraventricular', 'QT Largo', 'WPW', 'Truncus',\n",
       "       'Palpitaciones', 'Anomalías drenaje venosos sistémico',\n",
       "       'Taquicardia ventricular', 'Ventana aortopulmonar',\n",
       "       'Tetralogía de Fallot', 'Univentriculares (todos)',\n",
       "       'Trasplante cardiaco', 'D-TGA', 'Síncopes', 'Estenosis mitral',\n",
       "       'Taquicardia supraventricular', nan, 'Extrasistolia ventricular',\n",
       "       'Estenosis aórtica', 'Insuficiencia aórtica', 'Bloqueo AV',\n",
       "       'Anillo Vascular/Sling pulmonar',\n",
       "       'Otros defectos cardiacos congénitos', 'MC no compactada',\n",
       "       'Otros trasplantes', 'Insuficiencia mitral', 'Miocarditis/Mioperi',\n",
       "       'Endocarditis', 'Síndrome Williams-Beuren',\n",
       "       'Atresia pulmonar + CIV', 'Displasia valvula aortica',\n",
       "       'Pectus excavatum', 'Estenosis venas pulmonares',\n",
       "       'Familiar MC/MS/Canalopatía', 'Disfunción nodo sinusal',\n",
       "       'Hipertensión Pulmonar', 'Interrupción arco aórtico',\n",
       "       'Insuficiencia tricúspide', 'Distrofia muscular', 'L-TGA',\n",
       "       'Ebstein',\n",
       "       'DVPA Parcial/Sd. Cimitarra/Hipoplasia pulmonar/Secuestro',\n",
       "       'Brugada', 'MC dilatada', 'Otras alteraciones genéticas',\n",
       "       'Fístula coronaria', 'Displasia valvula pulmonar',\n",
       "       'Atresia pulmonar septo íntegro', 'Cromosomopatías',\n",
       "       'Esclerosis tuberosa', 'Taquicardia Catecolaminérgica'], dtype=object)"
      ]
     },
     "execution_count": 19,
     "metadata": {},
     "output_type": "execute_result"
    }
   ],
   "source": [
    "df.dx1.unique()"
   ]
  },
  {
   "cell_type": "code",
   "execution_count": null,
   "metadata": {},
   "outputs": [],
   "source": []
  }
 ],
 "metadata": {
  "kernelspec": {
   "display_name": "Python 3",
   "language": "python",
   "name": "python3"
  },
  "language_info": {
   "codemirror_mode": {
    "name": "ipython",
    "version": 3
   },
   "file_extension": ".py",
   "mimetype": "text/x-python",
   "name": "python",
   "nbconvert_exporter": "python",
   "pygments_lexer": "ipython3",
   "version": "3.6.3"
  }
 },
 "nbformat": 4,
 "nbformat_minor": 2
}
